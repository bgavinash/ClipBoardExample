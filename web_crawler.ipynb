{
  "nbformat": 4,
  "nbformat_minor": 0,
  "metadata": {
    "colab": {
      "name": "web_crawler.ipynb",
      "provenance": [],
      "collapsed_sections": [
        "RFJNoCMi9KZa",
        "oyxk53AZ9j5K",
        "NkRvH5pGBJW3"
      ],
      "include_colab_link": true
    },
    "kernelspec": {
      "name": "python3",
      "display_name": "Python 3"
    }
  },
  "cells": [
    {
      "cell_type": "markdown",
      "metadata": {
        "id": "view-in-github",
        "colab_type": "text"
      },
      "source": [
        "<a href=\"https://colab.research.google.com/github/bgavinash/ClipBoardExample/blob/master/web_crawler.ipynb\" target=\"_parent\"><img src=\"https://colab.research.google.com/assets/colab-badge.svg\" alt=\"Open In Colab\"/></a>"
      ]
    },
    {
      "cell_type": "markdown",
      "metadata": {
        "id": "RFJNoCMi9KZa",
        "colab_type": "text"
      },
      "source": [
        "#HTTP request handler class"
      ]
    },
    {
      "cell_type": "code",
      "metadata": {
        "id": "b85SQRMPhOho",
        "colab_type": "code",
        "colab": {}
      },
      "source": [
        "USE_REQUESTS_LIBRARY = True"
      ],
      "execution_count": 0,
      "outputs": []
    },
    {
      "cell_type": "code",
      "metadata": {
        "id": "4wT1GaoB9JqZ",
        "colab_type": "code",
        "colab": {}
      },
      "source": [
        "\n",
        "class HTTP_request_handler:\n",
        "  def __init__(self):\n",
        "    self.session_requests = None\n",
        "    self.requests_lib_instance = HTTP_handler_requests_library()\n",
        "    self.custom_instance = HTTP_request_handler_Custom()\n",
        "    pass\n",
        "  \n",
        "  def getPage(self,url):\n",
        "    if USE_REQUESTS_LIBRARY:\n",
        "      return self.requests_lib_instance.getPage(url)\n",
        "    else:\n",
        "      return self.custom_instance.getPage(url)\n",
        "  \n",
        "  def getPageForSession(self,url):\n",
        "    if USE_REQUESTS_LIBRARY:\n",
        "      return self.requests_lib_instance.getPageForSession(url)\n",
        "    else:\n",
        "      return self.custom_instance.getPageForSession(url)\n",
        "\n",
        "  def login(self,username,password,url):\n",
        "    if USE_REQUESTS_LIBRARY:\n",
        "      self.requests_lib_instance.login(username,password,url)\n",
        "    else:\n",
        "      self.custom_instance.login(username,password,url)\n",
        "    \n"
      ],
      "execution_count": 0,
      "outputs": []
    },
    {
      "cell_type": "code",
      "metadata": {
        "id": "w4UMxlljgvJk",
        "colab_type": "code",
        "colab": {}
      },
      "source": [
        "import requests \n",
        "class HTTP_handler_requests_library:\n",
        "  def __init__(self):\n",
        "    self.session_requests = None\n",
        "    pass\n",
        "  def getPage(self,url):\n",
        "    url = 'http://cs5700f16.ccs.neu.edu'+ url\n",
        "    r = requests.get(url)\n",
        "    return r.content\n",
        "  \n",
        "  def getPageForSession(self,url):\n",
        "    url = 'http://cs5700f16.ccs.neu.edu'+ url\n",
        "    r = self.session_requests.get(\n",
        "\t  url, \n",
        "\t  headers = dict(referer = url)\n",
        "    )\n",
        "    while not r.ok:\n",
        "      print('-----retrying-----',r.status_code)\n",
        "      r = self.session_requests.get(\n",
        "      url, \n",
        "      headers = dict(referer = url)\n",
        "      )\n",
        "\n",
        "    return r.content\n",
        "\n",
        "  def login(self,username,password,url):\n",
        "    print('Login with :',username,password,url)\n",
        "    self.session_requests = requests.session()\n",
        "    result = self.session_requests.get(url)\n",
        "    \n",
        "    parser = HTML_parser()\n",
        "    parser.setPage(result.content,'')\n",
        "    mw_key = parser.getMiddlewareToken()\n",
        "    \n",
        "\n",
        "    payload = {\n",
        "      \"username\": username, \n",
        "      \"password\": password, \n",
        "      \"csrfmiddlewaretoken\": mw_key\n",
        "    }\n",
        "    result = self.session_requests.post(\n",
        "      url, \n",
        "      data = payload, \n",
        "      headers = dict(referer=url)\n",
        "    )\n",
        "    print(result.ok)"
      ],
      "execution_count": 0,
      "outputs": []
    },
    {
      "cell_type": "code",
      "metadata": {
        "id": "fyDKWdUEjEG3",
        "colab_type": "code",
        "colab": {}
      },
      "source": [
        "class HTTP_request_handler_Custom:\n",
        "  def __init__(self):\n",
        "    self.session_requests = None\n",
        "    pass\n",
        "  def getPage(self,url):\n",
        "    url = 'http://cs5700f16.ccs.neu.edu'+ url\n",
        "    r = requests.get(url)\n",
        "    return r.content\n",
        "  \n",
        "  def getPageForSession(self,url):\n",
        "    url = 'http://cs5700f16.ccs.neu.edu'+ url\n",
        "    r = self.session_requests.get(\n",
        "\t  url, \n",
        "\t  headers = dict(referer = url)\n",
        "    )\n",
        "    while not r.ok:\n",
        "      print('-----retrying-----',r.status_code)\n",
        "      r = self.session_requests.get(\n",
        "      url, \n",
        "      headers = dict(referer = url)\n",
        "      )\n",
        "\n",
        "    return r.content\n",
        "\n",
        "  def login(self,username,password,url):\n",
        "    print('Login with custom instance :',username,password,url)\n",
        "    self.session_requests = requests.session()\n",
        "    result = self.session_requests.get(url)\n",
        "    \n",
        "    parser = HTML_parser()\n",
        "    parser.setPage(result.content,'')\n",
        "    mw_key = parser.getMiddlewareToken()\n",
        "    print('mw key is ', mw_key)\n",
        "\n",
        "    payload = {\n",
        "      \"username\": username, \n",
        "      \"password\": password, \n",
        "      \"csrfmiddlewaretoken\": mw_key\n",
        "    }\n",
        "    result = self.session_requests.post(\n",
        "      url, \n",
        "      data = payload, \n",
        "      headers = dict(referer=url)\n",
        "    )\n",
        "    print(result.ok)"
      ],
      "execution_count": 0,
      "outputs": []
    },
    {
      "cell_type": "markdown",
      "metadata": {
        "id": "oyxk53AZ9j5K",
        "colab_type": "text"
      },
      "source": [
        "#login Module"
      ]
    },
    {
      "cell_type": "code",
      "metadata": {
        "id": "kAerEFG79miS",
        "colab_type": "code",
        "colab": {}
      },
      "source": [
        "class Login:\n",
        "  def __init__(self):\n",
        "    pass\n",
        "  \n",
        "  def loginToFakeBook(self,user,password):\n",
        "    url = \"http://cs5700f16.ccs.neu.edu/accounts/login/\"\n",
        "    req_handler = HTTP_request_handler()\n",
        "    req_handler.login(user,password,url)\n",
        "    return req_handler\n",
        "    \n"
      ],
      "execution_count": 0,
      "outputs": []
    },
    {
      "cell_type": "markdown",
      "metadata": {
        "id": "5DqYQ72GxTBh",
        "colab_type": "text"
      },
      "source": [
        "#HTML parser class"
      ]
    },
    {
      "cell_type": "code",
      "metadata": {
        "id": "TWsVdnS8cuQ9",
        "colab_type": "code",
        "colab": {}
      },
      "source": [
        "from html.parser import HTMLParser\n",
        "\n",
        "class HTML_parser(HTMLParser):\n",
        "   \n",
        "    def getAllLinks(self):\n",
        "      return self.all_links\n",
        "\n",
        "    def getSecretKey(self):\n",
        "      return self.secret_key     \n",
        "\n",
        "    def getMiddlewareToken(self):\n",
        "      return self.csfrtoken\n",
        "    \n",
        "    def getSessionId(self):\n",
        "      return self.session_id\n",
        "    \n",
        "    def setPage(self,data,url=''):\n",
        "      self.all_links = set()\n",
        "      self.session_id = None\n",
        "      self.csfrtoken = None\n",
        "      self.secret_key = None\n",
        "      self.feed((data.decode(\"utf-8\")))\n",
        "    \n",
        "    def isFakeBookLink(self,url):\n",
        "      return 'fakebook' in url\n",
        "\n",
        "    def parseSessionId(self,text):\n",
        "      lines = text.split('\\n')\n",
        "      for line in lines:\n",
        "        startIndex = line.find('sessionid')\n",
        "        if  startIndex != -1:\n",
        "          startIndex = line.find('=')\n",
        "          endIndex = line.find(';')\n",
        "          self.session_id = line[startIndex+1:endIndex]\n",
        "\n",
        "    def parseCsfrtoken(self,text):\n",
        "      lines = text.split('\\n')\n",
        "      for line in lines:\n",
        "        startIndex = line.find('csrftoken')\n",
        "        if  startIndex != -1:\n",
        "          startIndex = line.find('=')\n",
        "          endIndex = line.find(';')\n",
        "          print('mw_token in parser is ', self.csfrtoken)\n",
        "          self.csfrtoken = line[startIndex+1:endIndex]\n",
        "\n",
        "    def updateAllLinks(self,attrs):\n",
        "      for name, value in attrs:\n",
        "        if name == \"href\" and self.isFakeBookLink(value):\n",
        "          self.all_links.add(value)\n",
        "          \n",
        "    def handle_starttag(self, tag, attrs):\n",
        "      csfrfound = False\n",
        "      if tag == 'a':\n",
        "        self.updateAllLinks(attrs)\n",
        "      if tag == 'input':\n",
        "        if not self.csfrtoken:\n",
        "          for name, value in attrs:\n",
        "            print('name : ',name,'val :',value)\n",
        "            if value == 'csrfmiddlewaretoken':\n",
        "              csfrfound = True\n",
        "            elif csfrfound and name == 'value':\n",
        "              self.csfrtoken = value\n",
        "\n",
        "    def handle_data(self, data):\n",
        "        if not self.session_id:\n",
        "          self.parseSessionId(data)\n",
        "        if not self.csfrtoken:\n",
        "          self.parseCsfrtoken(data)\n",
        "        if not self.secret_key:\n",
        "          if data.find('FLAG: ')!= -1:\n",
        "            print('Flag found !!! ',data)\n",
        "            self.secret_key = data"
      ],
      "execution_count": 0,
      "outputs": []
    },
    {
      "cell_type": "markdown",
      "metadata": {
        "id": "NkRvH5pGBJW3",
        "colab_type": "text"
      },
      "source": [
        "#Crawler class"
      ]
    },
    {
      "cell_type": "code",
      "metadata": {
        "id": "7LFAqFveBIz-",
        "colab_type": "code",
        "colab": {}
      },
      "source": [
        "max_keys_to_find = 1\n",
        "class Crawler:\n",
        "  def __init__(self,url,reqh):\n",
        "    self.links = dict()\n",
        "    self.links[url] = False\n",
        "    self.reqh = reqh\n",
        "  \n",
        "  def addToLinks(self,newLinks):\n",
        "    for url in  newLinks:\n",
        "      if url not in self.links:\n",
        "        self.links[url.strip()] = False\n",
        "\n",
        "  def startCrawling(self):\n",
        "    '''\n",
        "    Will crawl through all available links and  returns the list of secret keys\n",
        "    '''\n",
        "    secret_keys = []\n",
        "    remaining_links = []\n",
        "    parser = HTML_parser()\n",
        "    count = 0\n",
        "    while(True):\n",
        "      remainingLinks = [url for url,visited in self.links.items() if not visited ]\n",
        "      if not remainingLinks:\n",
        "        print('done with crawling')\n",
        "        return secret_keys\n",
        "      for url in remainingLinks :\n",
        "        self.links[url] = True\n",
        "        page = self.reqh.getPageForSession(url)\n",
        "        parser.setPage(page,'')\n",
        "        key = parser.getSecretKey()\n",
        "        if key != None:\n",
        "          print('hurray.... key found at',url,key,len(secret_keys))\n",
        "          tk.log()\n",
        "          secret_keys.append(key)\n",
        "          if len(secret_keys)==max_keys_to_find:\n",
        "            return secret_keys\n",
        "        newlinks = parser.getAllLinks()\n",
        "        self.addToLinks(newlinks)\n",
        "        count+=1\n",
        "      #   break # remove this later \n",
        "      # break # remove this later for parsing\n",
        "\n"
      ],
      "execution_count": 0,
      "outputs": []
    },
    {
      "cell_type": "code",
      "metadata": {
        "id": "czNl0UkSa80W",
        "colab_type": "code",
        "colab": {}
      },
      "source": [
        "import time\n",
        "class TimeKeeper:\n",
        "  def __init__(self):\n",
        "    self.startTime = time.time()\n",
        "  def start(self):\n",
        "    self.startTime = time.time()\n",
        "  def log(self):\n",
        "    print(time.time() - self.startTime )\n"
      ],
      "execution_count": 0,
      "outputs": []
    },
    {
      "cell_type": "code",
      "metadata": {
        "id": "B9THP6Vlb03M",
        "colab_type": "code",
        "outputId": "c76b7750-8125-4eaf-d2d1-9d81ef8ffccc",
        "colab": {
          "base_uri": "https://localhost:8080/",
          "height": 34
        }
      },
      "source": [
        "tk =TimeKeeper()\n",
        "\n",
        "tk.start()\n",
        "tk.log()"
      ],
      "execution_count": 0,
      "outputs": [
        {
          "output_type": "stream",
          "text": [
            "3.266334533691406e-05\n"
          ],
          "name": "stdout"
        }
      ]
    },
    {
      "cell_type": "markdown",
      "metadata": {
        "id": "9ogyQOJ6xOf5",
        "colab_type": "text"
      },
      "source": [
        "#Driver Code"
      ]
    },
    {
      "cell_type": "code",
      "metadata": {
        "id": "yjrngtMGo83o",
        "colab_type": "code",
        "colab": {}
      },
      "source": [
        "def loginToFakeBook(user,password):\n",
        "  url = \"http://cs5700f16.ccs.neu.edu/accounts/login/\"\n",
        "  req_handler = HTTP_request_handler()\n",
        "  req_handler.login(user,password,url)\n",
        "  return req_handler"
      ],
      "execution_count": 0,
      "outputs": []
    },
    {
      "cell_type": "code",
      "metadata": {
        "id": "s0iNOEPjAIXv",
        "colab_type": "code",
        "outputId": "e8c91059-20af-486d-a562-e719ffd2b7f1",
        "colab": {
          "base_uri": "https://localhost:8080/",
          "height": 1000
        }
      },
      "source": [
        "tk.start()\n",
        "session_req_handler = loginToFakeBook('001400450','R26KTI1B')\n",
        "crawler = Crawler(\"/fakebook\",session_req_handler)\n",
        "secret_keys = crawler.startCrawling()\n",
        "tk.log()"
      ],
      "execution_count": 0,
      "outputs": [
        {
          "output_type": "stream",
          "text": [
            "Login with : 001400450 R26KTI1B http://cs5700f16.ccs.neu.edu/accounts/login/\n",
            "name :  id val : id_username\n",
            "name :  type val : text\n",
            "name :  name val : username\n",
            "name :  maxlength val : 30\n",
            "name :  id val : id_password\n",
            "name :  type val : password\n",
            "name :  name val : password\n",
            "name :  maxlength val : 4096\n",
            "name :  type val : hidden\n",
            "name :  name val : csrfmiddlewaretoken\n",
            "name :  value val : 9bd867a29ca03ee9b69e46f6eb9458be\n",
            "True\n",
            "-----retrying----- 500\n",
            "-----retrying----- 500\n",
            "-----retrying----- 500\n",
            "-----retrying----- 500\n",
            "-----retrying----- 500\n",
            "-----retrying----- 500\n",
            "-----retrying----- 500\n",
            "-----retrying----- 500\n",
            "-----retrying----- 500\n",
            "-----retrying----- 500\n",
            "-----retrying----- 500\n",
            "-----retrying----- 500\n",
            "-----retrying----- 500\n",
            "-----retrying----- 500\n",
            "-----retrying----- 500\n",
            "-----retrying----- 500\n",
            "-----retrying----- 500\n",
            "-----retrying----- 500\n",
            "-----retrying----- 500\n",
            "-----retrying----- 500\n",
            "-----retrying----- 500\n",
            "-----retrying----- 500\n",
            "-----retrying----- 500\n",
            "-----retrying----- 500\n",
            "-----retrying----- 500\n",
            "-----retrying----- 500\n",
            "-----retrying----- 500\n",
            "-----retrying----- 500\n",
            "-----retrying----- 500\n",
            "-----retrying----- 500\n",
            "-----retrying----- 500\n",
            "-----retrying----- 500\n",
            "-----retrying----- 500\n",
            "-----retrying----- 500\n",
            "-----retrying----- 500\n",
            "-----retrying----- 500\n",
            "-----retrying----- 500\n",
            "-----retrying----- 500\n",
            "-----retrying----- 500\n",
            "-----retrying----- 500\n",
            "-----retrying----- 500\n",
            "-----retrying----- 500\n",
            "-----retrying----- 500\n",
            "-----retrying----- 500\n",
            "-----retrying----- 500\n",
            "-----retrying----- 500\n",
            "-----retrying----- 500\n",
            "Flag found !!!  FLAG: 5d62e58ccecda834f295c9b9eac41fb84d9edea950cffde25910811a0bf4cc0c\n",
            "hurray.... key found at /fakebook/721520081/ FLAG: 5d62e58ccecda834f295c9b9eac41fb84d9edea950cffde25910811a0bf4cc0c 0\n",
            "279.62063813209534\n",
            "279.6209752559662\n"
          ],
          "name": "stdout"
        }
      ]
    },
    {
      "cell_type": "code",
      "metadata": {
        "id": "jwTw3M4J6L8J",
        "colab_type": "code",
        "outputId": "8440c581-3a7f-42a6-ccb9-04e740065420",
        "colab": {
          "base_uri": "https://localhost:8080/",
          "height": 34
        }
      },
      "source": [
        "secret_keys"
      ],
      "execution_count": 0,
      "outputs": [
        {
          "output_type": "execute_result",
          "data": {
            "text/plain": [
              "['FLAG: 5d62e58ccecda834f295c9b9eac41fb84d9edea950cffde25910811a0bf4cc0c']"
            ]
          },
          "metadata": {
            "tags": []
          },
          "execution_count": 92
        }
      ]
    },
    {
      "cell_type": "code",
      "metadata": {
        "id": "alvJju68n9Pr",
        "colab_type": "code",
        "colab": {}
      },
      "source": [
        ""
      ],
      "execution_count": 0,
      "outputs": []
    }
  ]
}