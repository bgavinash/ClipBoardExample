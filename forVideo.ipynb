{
  "nbformat": 4,
  "nbformat_minor": 0,
  "metadata": {
    "colab": {
      "name": "forVideo.ipynb",
      "provenance": [],
      "toc_visible": true,
      "authorship_tag": "ABX9TyO6p5b19HbcISSKvUaNP9Y5",
      "include_colab_link": true
    },
    "kernelspec": {
      "name": "python3",
      "display_name": "Python 3"
    },
    "language_info": {
      "name": "python"
    }
  },
  "cells": [
    {
      "cell_type": "markdown",
      "metadata": {
        "id": "view-in-github",
        "colab_type": "text"
      },
      "source": [
        "<a href=\"https://colab.research.google.com/github/bgavinash/ClipBoardExample/blob/master/forVideo.ipynb\" target=\"_parent\"><img src=\"https://colab.research.google.com/assets/colab-badge.svg\" alt=\"Open In Colab\"/></a>"
      ]
    },
    {
      "cell_type": "markdown",
      "metadata": {
        "id": "C3wW3E_ANiVA"
      },
      "source": [
        "In this series we are going to solve 5 different dynamic problems by understanding a single function.I feel that all these 5 problems are related and can be understood together. All of us know that dynamic programming can be either achieved by memoization also.Since, I am more comfortable with top-down approach and thus I will be discussing recursion with memoization only. The topics that are expected to be discussed in this series are,\n",
        "\n",
        "1. Davis Stairs\n",
        "2. Coin Change 1 -leetcode\n",
        "3. Coin Change 2 -leetcode\n",
        "4. Knapsack problem "
      ]
    },
    {
      "cell_type": "markdown",
      "metadata": {
        "id": "6Gk5yCPiPTYj"
      },
      "source": [
        "#Davis Stairs and getPaths function:\n",
        "\n",
        "Link: https://www.hackerrank.com/challenges/ctci-recursive-staircase/problem\n",
        "\n",
        "So in this problem the person 'Tom' has 'N' stairs to climb. He can take 1,2 or 3 steps at once. What are the total number of ways he can climb. Let us try to solve this. To Solve this, we will write a function which we will call, getpaths.<br>\n",
        "\n",
        "Dynamic programming is \"smart bruteforce\" appraoch. So we will actually try and count all the possible ways Tom can take.After that we will try to optimize it.<br>\n",
        "Tom starts at 0. He has 3 options, go to step 1,2 or 3. With the new step(1,2 or 3) as start, Tom again has 3 options and so on. Once the new-start position is equal to the destination,Tom has completed 1 path(return 1). If he overshoots the destination, then it is not a right path, so we should not add this path(return 0). Thus we can define base condition as,\n",
        "\n",
        "```python\n",
        "Base Condition:\n",
        "if start == dest: return 1\n",
        "if start>dest: return 0\n",
        "```\n",
        "The total paths will be sum of all the successful paths. Since tom can take [1,2,3] steps, we have to consider the number of successful paths from start+1,start+2,start+3 stairs.\n",
        "```python\n",
        "total_paths = getpath(start+1,dest) + getpath(start+2,dest)+ getpath(start+3,dest)\n",
        "```\n",
        "The complete code will simply look like this.\n",
        "\n",
        "\n",
        "\n"
      ]
    },
    {
      "cell_type": "code",
      "metadata": {
        "id": "pK91tEsmU6jZ"
      },
      "source": [
        "def getpaths(start,dest):\n",
        "  if start>dest:\n",
        "    return 0\n",
        "  if start==dest:\n",
        "    return 1\n",
        "  res = getpaths(start+1,dest) + getpaths(start+2,dest) + getpaths(start+3,dest)\n",
        "  return res"
      ],
      "execution_count": 12,
      "outputs": []
    },
    {
      "cell_type": "code",
      "metadata": {
        "id": "5X4wY6TjVNvA"
      },
      "source": [
        "#-----This is only testing code----\n",
        "#It is as simple as that\n",
        "#lets see if it works\n",
        "assert(4==getpaths(0,3))\n",
        "assert(13==getpaths(0,5))"
      ],
      "execution_count": 13,
      "outputs": []
    },
    {
      "cell_type": "markdown",
      "metadata": {
        "id": "pGnFJtkyVvt0"
      },
      "source": [
        "#Get Paths Memoization\n",
        "\n",
        "***getpaths*** function is very simple. From now on we will only embellish this function to add more optimisations or functionalities.\n",
        "\n",
        "Firstly, we have not memoized it, so it is an exponential function. Lets memoize it and make it polynomial time. Why memoization makes it polynomial is not scope of this session, There are many videos explaining it already.\n",
        "\n",
        "\n",
        "Memoization is simple, just pass a dictionary named 'memo' as a parameter.\n",
        "```python\n",
        "def getpathsMemoized(start,dest,memo):\n",
        "```\n",
        "After calculating the answer, store the answer in memo before returning. It is important to decide the \"key\" in the memo. In our recursion, the only parameter that is changing is \"start\", so automatically this will be the key. Thus, we will store result for every value of start in memo.\n",
        "```python\n",
        "memo[start] = res\n",
        "return res\n",
        "```\n",
        "Now since all previously calculated answers are already present in the memo, even before checking for base conditions of the function, return the answer from memo if it is already present. Dont forget this, This is the main step in memoization. :)\n",
        "```python\n",
        "if start in memo:\n",
        "  return memo[start]\n",
        "```\n",
        "\n",
        "The memoized function is written below."
      ]
    },
    {
      "cell_type": "code",
      "metadata": {
        "id": "EMso0k3ZXdCC"
      },
      "source": [
        "def getpathsMemoized(start,dest,memo):\n",
        "  if start in memo:\n",
        "    return memo[start]\n",
        "  if start>dest:\n",
        "    return 0\n",
        "  if start==dest:\n",
        "    return 1\n",
        "  res = getpathsMemoized(start+1,dest,memo) + getpathsMemoized(start+2,dest,memo) + getpathsMemoized(start+3,dest,memo)\n",
        "  memo[start] = res\n",
        "  return res"
      ],
      "execution_count": 14,
      "outputs": []
    },
    {
      "cell_type": "code",
      "metadata": {
        "id": "7tQWJuFQXqEi"
      },
      "source": [
        "#---- THIS IS TESTING CODE----\n",
        "#lets see if memoized function works\n",
        "assert(4==getpathsMemoized(0,3,dict()))\n",
        "assert(13==getpathsMemoized(0,5,dict()))"
      ],
      "execution_count": 15,
      "outputs": []
    },
    {
      "cell_type": "code",
      "metadata": {
        "colab": {
          "base_uri": "https://localhost:8080/"
        },
        "id": "7A7nghY6Yj_7",
        "outputId": "fa7fb992-9c1d-45cc-affa-26ef63f3fb03"
      },
      "source": [
        "#lets see if memoization actually helped\n",
        "import time\n",
        "N=25\n",
        "start = time.time()\n",
        "getpaths(0,N)\n",
        "end = time.time()\n",
        "print('Time without Memo ',end - start)\n",
        "\n",
        "start = time.time()\n",
        "getpathsMemoized(0,N,dict())\n",
        "end = time.time()\n",
        "print('Time With Memo ',end - start)"
      ],
      "execution_count": 19,
      "outputs": [
        {
          "output_type": "stream",
          "text": [
            "Time without Memo  1.4490745067596436\n",
            "Time With Memo  9.703636169433594e-05\n"
          ],
          "name": "stdout"
        }
      ]
    },
    {
      "cell_type": "markdown",
      "metadata": {
        "id": "o1fiMreGbSqm"
      },
      "source": [
        "\n",
        "With N=30,\n",
        "Time without Memo  32.10567116737366\n",
        "Time With Memo  8.511543273925781e-05\n",
        "\n",
        "i.e 32 Seconds and 0.085 milliSeconds. Memoized version is orders of magnitude faster.\n",
        "\n",
        "So it is evident that Memoization has converted an exponential time program to polynomial time. Anyways lets continue to learn more by tweaking getpaths functions.\n",
        "\n",
        "---"
      ]
    },
    {
      "cell_type": "markdown",
      "metadata": {
        "id": "M4-g5zsN2QG_"
      },
      "source": [
        "# Get Paths 2\n",
        "\n",
        "Consider getpaths function again.<br>\n",
        "What if Tom has grown and now can take 1,2,3 and 4 steps together.\n",
        "To calculate now, we will have to simply add another element, <br> \n",
        "```python\n",
        "getpaths(start+4,dest) \n",
        "```\n",
        "<br>\n",
        "So our code needs to be changed if we change the number steps Tom can take in one stride. Lets reduce the already concise code.\n",
        "<br>\n",
        "<br>\n",
        "Consider the line<br>\n",
        "\n",
        "```python\n",
        "res = getpaths(start+1,dest) + getpaths(start+2,dest) + getpaths(start+3,dest)\n",
        "```\n",
        "Let us make a list consisting of all the steps that Tom can take. Lets call it steps. so,\n",
        "```python\n",
        "steps = [1,2,3]\n",
        "```\n",
        "We can then call getPaths for each of these steps, store the intermediate results in resList , and finally sum all the elements of resList to get result.<br>\n",
        "We will now transform the old line to this,\n",
        "```python\n",
        "resList = []\n",
        "for step in steps:\n",
        "  resList.append(getpaths(start+step,dest))\n",
        "res = sum(resList)\n",
        "```\n",
        "\n",
        "Now, it doesn't matter if steps is defined locally in your function or given as a parameter by a caller, this code still works. Thus our new function getpaths2 will look like below.\n"
      ]
    },
    {
      "cell_type": "code",
      "metadata": {
        "id": "mjCg58EsYyxi"
      },
      "source": [
        "def getpaths2(start,dest,steps):\n",
        "  if start>dest:\n",
        "    return 0\n",
        "  if start==dest:\n",
        "    return 1\n",
        "  resList = []\n",
        "  for step in steps:\n",
        "    resList.append(getpaths2(start+step,dest,steps))\n",
        "  return sum(resList)"
      ],
      "execution_count": 17,
      "outputs": []
    },
    {
      "cell_type": "code",
      "metadata": {
        "id": "LmKlWZ3k7tv0"
      },
      "source": [
        "#-----THIS IS TEST CODE-----\n",
        "##lets see if getpaths2 works as expected\n",
        "tomSteps = [1,2,3]\n",
        "assert(4==getpaths2(0,3,tomSteps))\n",
        "assert(13==getpaths2(0,5,tomSteps))"
      ],
      "execution_count": 20,
      "outputs": []
    },
    {
      "cell_type": "markdown",
      "metadata": {
        "id": "N-dH06MOEPq1"
      },
      "source": [
        "That is all folks.\n",
        "Next session of the series we will discuss coin change problem.\n",
        "If you have understood the way we arrived at \"getpaths2\" function, I will  assure you that all the other coding questions in this series will be a cake walk."
      ]
    },
    {
      "cell_type": "code",
      "metadata": {
        "id": "-Tph0P2X8WtH"
      },
      "source": [
        ""
      ],
      "execution_count": 18,
      "outputs": []
    }
  ]
}